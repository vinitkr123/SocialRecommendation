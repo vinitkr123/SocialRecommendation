{
 "cells": [
  {
   "cell_type": "markdown",
   "metadata": {},
   "source": [
    "# Imports used for recommendation using Scikit-Surprise library"
   ]
  },
  {
   "cell_type": "code",
   "execution_count": 19,
   "metadata": {},
   "outputs": [],
   "source": [
    "import os\n",
    "import csv\n",
    "from surprise import BaselineOnly\n",
    "from surprise import Dataset\n",
    "from surprise import Reader\n",
    "from surprise import SVD\n",
    "from surprise import accuracy\n",
    "from surprise.model_selection import cross_validate\n",
    "from surprise.model_selection import train_test_split\n",
    "from collections import defaultdict"
   ]
  },
  {
   "cell_type": "markdown",
   "metadata": {},
   "source": [
    "# Specifying the mongoDB root directory and exporting data using mongoexport as csv file"
   ]
  },
  {
   "cell_type": "code",
   "execution_count": 11,
   "metadata": {},
   "outputs": [
    {
     "data": {
      "text/plain": [
       "0"
      ]
     },
     "execution_count": 11,
     "metadata": {},
     "output_type": "execute_result"
    }
   ],
   "source": [
    "# File Path where the files for train ,test and output needs to be stored.\n",
    "pr_file_path=\"/Users/ashokkumar/Desktop/ApacheTomcat/apache-tomcat-7.0.34/webapps/BestDealWebsite\"\n",
    "\n",
    "# Location of the mongoexport that is used to ecport data from mondo DB\n",
    "os.chdir('/Users/ashokkumar/Desktop/MongoDB/mongodb-osx-x86_64-3.2.22/bin')\n",
    "os.system('./mongoexport --db CustomerReviews --collection myReviews --type csv --fields userName,productName,reviewRating --out '+pr_file_path+'/mongodata_train.csv')\n"
   ]
  },
  {
   "cell_type": "code",
   "execution_count": 5,
   "metadata": {},
   "outputs": [],
   "source": [
    "import pymysql\n",
    "import pandas"
   ]
  },
  {
   "cell_type": "code",
   "execution_count": 16,
   "metadata": {},
   "outputs": [],
   "source": [
    "import pymysql\n",
    "import pandas\n",
    "\n",
    "conn = pymysql.connect(host='127.0.0.1', port=3306, user='root', password='root', database='SocialRecommendation')\n",
    "cursor = conn.cursor()\n",
    "query = 'select userid, name, reviewrating  from review'"
   ]
  },
  {
   "cell_type": "code",
   "execution_count": 17,
   "metadata": {},
   "outputs": [],
   "source": [
    "results = pandas.read_sql_query(query, conn)\n",
    "results.to_csv(\"data_train.csv\", index=False)"
   ]
  },
  {
   "cell_type": "markdown",
   "metadata": {},
   "source": [
    "# Iterating over the exported file from mongo DB to generate test file."
   ]
  },
  {
   "cell_type": "code",
   "execution_count": 20,
   "metadata": {},
   "outputs": [],
   "source": [
    "\n",
    "# Loop over the trainb file exported from mongo DB to generate test file.\n",
    "with open(\"data_train.csv\", \"r\") as f:\n",
    "    reader = csv.DictReader(f, delimiter=',')\n",
    "    with open(\"data_test.csv\", \"w\",newline='') as f_out:\n",
    "        writer = csv.DictWriter(f_out, fieldnames=reader.fieldnames, delimiter=\",\")\n",
    "        for row in reader:\n",
    "            writer.writerow(row)\n",
    "            \n",
    "file_path = os.path.expanduser('data_test.csv')"
   ]
  },
  {
   "cell_type": "markdown",
   "metadata": {},
   "source": [
    "# Recommendation logic using surprise library and predicting top 3 results"
   ]
  },
  {
   "cell_type": "code",
   "execution_count": 23,
   "metadata": {},
   "outputs": [
    {
     "name": "stdout",
     "output_type": "stream",
     "text": [
      "user1 ['Patel Brothers', 'Jewel-Osco', 'Quigley', 'Bar Louie - Naperville', 'Pita Inn', 'Skokie Fashion Square', 'Lickity Split Frozen Custard', 'Shedd Aquarium', 'Parivar Grocers', 'Pub 56']\n",
      "user2 ['Millennium Park', 'Patel Brothers', 'Skokie Fashion Square', 'Quigley', 'Bombay Wraps', 'Captains Walk Shopping Mall', 'India House Restaurant - Chicago', 'Pita Inn', 'Parivar Grocers', 'Bar Louie - Naperville']\n",
      "user4 ['Pita Inn', 'India House Restaurant - Chicago', 'Bombay Wraps', 'Lickity Split Frozen Custard', 'Millennium Park', 'Skokie Fashion Square', 'Quigley', 'Shedd Aquarium', 'Taste of Peru', 'Bar Louie - Naperville']\n",
      "user5 ['Parivar Grocers', 'Pita Inn', 'Taste of Peru', 'Patel Brothers', 'Millennium Park', 'India House Restaurant - Chicago', 'Skokie Fashion Square', 'Lickity Split Frozen Custard', 'Bombay Wraps', 'Jewel-Osco']\n",
      "user3 ['Patel Brothers', 'Shedd Aquarium', 'Quigley', 'India House Restaurant - Chicago', 'Millennium Park', 'Bombay Wraps', 'Taste of Peru', 'Jewel-Osco', 'Parivar Grocers', 'Pub 56']\n"
     ]
    }
   ],
   "source": [
    "# As we're loading a custom dataset, we need to define a reader. \n",
    "reader = Reader(line_format='user item rating', sep=',')\n",
    "\n",
    "def get_top_n(predictions, n=10):\n",
    "    '''Return the top-N recommendation for each user from a set of predictions.\n",
    "\n",
    "    Args:\n",
    "        predictions(list of Prediction objects): The list of predictions, as\n",
    "            returned by the test method of an algorithm.\n",
    "        n(int): The number of recommendation to output for each user. Default\n",
    "            is 10.\n",
    "\n",
    "    Returns:\n",
    "    A dict where keys are user (raw) ids and values are lists of tuples:\n",
    "        [(raw item id, rating estimation), ...] of size n.\n",
    "    '''\n",
    "\n",
    "    # First map the predictions to each user.\n",
    "    top_n = defaultdict(list)\n",
    "    for uid, iid, true_r, est, _ in predictions:\n",
    "        top_n[uid].append((iid, est))\n",
    "\n",
    "    # Then sort the predictions for each user and retrieve the k highest ones.\n",
    "    for uid, user_ratings in top_n.items():\n",
    "        user_ratings.sort(key=lambda x: x[1], reverse=True)\n",
    "        top_n[uid] = user_ratings[:n]\n",
    "\n",
    "    return top_n\n",
    "\n",
    "# First train an SVD algorithm on the movielens dataset.\n",
    "data = Dataset.load_from_file(file_path, reader=reader)\n",
    "trainset = data.build_full_trainset()\n",
    "algo = SVD()\n",
    "algo.fit(trainset)\n",
    "\n",
    "# Than predict ratings for all pairs (u, i) that are NOT in the training set.\n",
    "testset = trainset.build_anti_testset()\n",
    "predictions = algo.test(testset)\n",
    "\n",
    "top_n = get_top_n(predictions)\n",
    "\n",
    "# Print the recommended items for each user\n",
    "for uid, user_ratings in top_n.items():\n",
    "    print(uid, [iid for (iid, _) in user_ratings])\n",
    "    \n",
    "out = open('output.csv', 'w',newline='')\n",
    "output=csv.writer(out)\n",
    "\n",
    "for uid, user_ratings in top_n.items():\n",
    "    output.writerow([uid, [iid for (iid, _) in user_ratings]])\n",
    "    \n",
    "out.close()\n"
   ]
  },
  {
   "cell_type": "code",
   "execution_count": null,
   "metadata": {},
   "outputs": [],
   "source": []
  }
 ],
 "metadata": {
  "kernelspec": {
   "display_name": "Python 3",
   "language": "python",
   "name": "python3"
  },
  "language_info": {
   "codemirror_mode": {
    "name": "ipython",
    "version": 3
   },
   "file_extension": ".py",
   "mimetype": "text/x-python",
   "name": "python",
   "nbconvert_exporter": "python",
   "pygments_lexer": "ipython3",
   "version": "3.5.5"
  }
 },
 "nbformat": 4,
 "nbformat_minor": 2
}
