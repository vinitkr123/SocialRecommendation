{
 "cells": [
  {
   "cell_type": "code",
   "execution_count": null,
   "metadata": {},
   "outputs": [],
   "source": [
    "gZnZYXh3tk1QGAp4vinf4P6wpI6pA0P4xYkEGMiGnRtBWtUa7UHZesIcOJHBdSbp"
   ]
  },
  {
   "cell_type": "code",
   "execution_count": 2,
   "metadata": {},
   "outputs": [
    {
     "name": "stdout",
     "output_type": "stream",
     "text": [
      "<recombee_api_client.api_client.RecombeeClient object at 0x10b47a048>\n"
     ]
    }
   ],
   "source": [
    "#Python Recombee\n",
    "from recombee_api_client.api_client import RecombeeClient\n",
    "from recombee_api_client.api_requests import *\n",
    "import json\n",
    "\n",
    "client = RecombeeClient('ewa-sem-proj-dev', 'gZnZYXh3tk1QGAp4vinf4P6wpI6pA0P4xYkEGMiGnRtBWtUa7UHZesIcOJHBdSbp')\n",
    "print(client);"
   ]
  },
  {
   "cell_type": "code",
   "execution_count": 3,
   "metadata": {},
   "outputs": [],
   "source": [
    "import json"
   ]
  },
  {
   "cell_type": "code",
   "execution_count": 172,
   "metadata": {},
   "outputs": [],
   "source": [
    "import pymysql\n",
    "import pandas\n",
    "\n",
    "conn = pymysql.connect(host='127.0.0.1', port=3306, user='root', password='root', database='SocialRecommendation')\n",
    "cursor = conn.cursor()\n",
    "query = 'select distinct(userid) as _userid, REPLACE(LTRIM(RTRIM(name)), SPACE(1),\"_\") as _name, reviewrating as _reviewrating  from review'\n",
    "\n",
    "query_users='select distinct(userid) as _userid from review'\n",
    "results = pandas.read_sql_query(query, conn)\n",
    "results.to_json(\"data_train.json\",orient='records')\n",
    "\n",
    "results = pandas.read_sql_query(query_users, conn)\n",
    "results.to_json(\"data_train_users.json\",orient='records')"
   ]
  },
  {
   "cell_type": "code",
   "execution_count": 188,
   "metadata": {
    "scrolled": true
   },
   "outputs": [],
   "source": [
    "#requests = []\n",
    "\n",
    "#with open('data_train.json') as f:\n",
    "#    interactions = json.loads(f.read())\n",
    "    #print(interactions)\n",
    "#     for item in interactions:\n",
    "#         print(item['_userid'])\n",
    "#         print(item['_name'])\n",
    "    "
   ]
  },
  {
   "cell_type": "code",
   "execution_count": 189,
   "metadata": {},
   "outputs": [
    {
     "name": "stdout",
     "output_type": "stream",
     "text": [
      "\n"
     ]
    }
   ],
   "source": [
    "#client.send(AddItemProperty('userName','string'))\n",
    "#client.send(AddItemProperty('productName','string'))\n",
    "#client.send(AddItemProperty('reviewRating','string'))\n",
    "#client.send(DeleteItem('3'))\n",
    "#client.send(AddItemProperty('_userid','string'))\n",
    "#client.send(AddItemProperty('_name','string'))\n",
    "#client.send(AddItemProperty('_reviewrating','string'))\n"
   ]
  },
  {
   "cell_type": "code",
   "execution_count": 175,
   "metadata": {},
   "outputs": [
    {
     "name": "stdout",
     "output_type": "stream",
     "text": [
      "Millennium_Park\n",
      "India_House_Restaurant_-_Chicago\n",
      "Bombay_Wraps\n",
      "Lickity_Split_Frozen_Custard\n",
      "Taste_of_Peru\n",
      "Pita_Inn\n",
      "Captains_Walk_Shopping_Mall\n",
      "Skokie_Fashion_Square\n",
      "Jewel-Osco\n",
      "Parivar_Grocers\n",
      "Patel_Brothers\n",
      "Shedd_Aquarium\n",
      "Bar_Louie_-_Naperville\n",
      "Pub_56\n",
      "Quigley\n",
      "Stateway_Park\n"
     ]
    }
   ],
   "source": [
    "requests = []\n",
    "with open('data_train.json') as f:\n",
    "    data = json.loads(f.read())\n",
    "    #print(data)\n",
    "    #print(data[:100])\n",
    "    for item in data:\n",
    "        print(item['_name'])\n",
    "        r = SetItemValues(item['_name'],\n",
    "                          item,\n",
    "                          cascade_create=True)\n",
    "        requests.append(r)\n",
    "\n",
    "res = client.send(Batch(requests))"
   ]
  },
  {
   "cell_type": "code",
   "execution_count": 190,
   "metadata": {},
   "outputs": [
    {
     "name": "stdout",
     "output_type": "stream",
     "text": [
      "user1\n",
      "user1 ['Bombay Wraps','India House Restaurant - Chicago','Pita Inn','Parivar Grocers','Patel Brothers','Quigley','Shedd Aquarium','Pub 56','Bar Louie - Naperville','Stateway Park']\n",
      "user2\n",
      "user2 ['Pub 56','Taste of Peru','Pita Inn','Parivar Grocers','Millennium Park','Bar Louie - Naperville','Stateway Park','Patel Brothers','Quigley','Bombay Wraps']\n",
      "user3\n",
      "user3 ['Captains Walk Shopping Mall','Skokie Fashion Square','Parivar Grocers','Millennium Park','Patel Brothers','Quigley','Bombay Wraps','Shedd Aquarium','Pub 56','Bar Louie - Naperville']\n",
      "user4\n",
      "user4 ['Parivar Grocers','Patel Brothers','Stateway Park','Captains Walk Shopping Mall','Skokie Fashion Square','Taste of Peru','Bar Louie - Naperville','India House Restaurant - Chicago','Pub 56','Pita Inn']\n",
      "user5\n",
      "user5 ['Quigley','Pub 56','Bar Louie - Naperville','Pita Inn','Parivar Grocers','Millennium Park','Patel Brothers','Bombay Wraps','Stateway Park','SamsungQLED']\n",
      "test\n",
      "test ['Captains Walk Shopping Mall','Skokie Fashion Square','Taste of Peru','Bar Louie - Naperville','Jewel-Osco','India House Restaurant - Chicago','Pub 56','Pita Inn','Parivar Grocers','Millennium Park']\n"
     ]
    }
   ],
   "source": [
    "\n",
    "import csv\n",
    "\n",
    "out =open('output_recombee.csv','w',newline='')\n",
    "output = csv.writer(out)\n",
    "name =''\n",
    "\n",
    "\n",
    "with open('data_train_users.json') as g:\n",
    "    users = json.loads(g.read())\n",
    "    for user in users:\n",
    "        print(user['_userid'])\n",
    "\n",
    "        with open('data_train.json') as f:\n",
    "            interactions = json.loads(f.read())       \n",
    "            #print(interactions)\n",
    "            for item in interactions:\n",
    "                if(user['_userid']==item['_userid']):\n",
    "                    recommended = client.send(RecommendItemsToItem(item['_name'], item['_userid'], 10, cascade_create=True))\n",
    "                    #print(item['_userid'],recommended['recomms'])\n",
    "\n",
    "                    name='['\n",
    "                    end=']'\n",
    "                    for re in recommended['recomms']:\n",
    "                        name += '\\''+re['id']+'\\','\n",
    "                    name+=end\n",
    "                    name=name.replace(\",]\",\"]\")\n",
    "                    name=name.replace(\"_\",\" \")\n",
    "                    print(item['_userid'],name)\n",
    "                    output.writerow([item['_userid'],name])\n",
    "                    break;\n",
    "                \n",
    "\n",
    "out.close()\n",
    "        "
   ]
  },
  {
   "cell_type": "code",
   "execution_count": 131,
   "metadata": {},
   "outputs": [],
   "source": [
    "\n",
    "\n"
   ]
  },
  {
   "cell_type": "code",
   "execution_count": 125,
   "metadata": {},
   "outputs": [
    {
     "name": "stdout",
     "output_type": "stream",
     "text": [
      "[\n",
      "    {\n",
      "        \"values\": {\n",
      "            \"_userid\": \"user3\",\n",
      "            \"_name\": \"Captains_Walk_Shopping_Mall\",\n",
      "            \"_reviewrating\": \"4\"\n",
      "        },\n",
      "        \"id\": \"Captains_Walk_Shopping_Mall\"\n",
      "    },\n",
      "    {\n",
      "        \"values\": {\n",
      "            \"_userid\": \"user3\",\n",
      "            \"_name\": \"Skokie_Fashion_Square\",\n",
      "            \"_reviewrating\": \"4\"\n",
      "        },\n",
      "        \"id\": \"Skokie_Fashion_Square\"\n",
      "    },\n",
      "    {\n",
      "        \"values\": {\n",
      "            \"_userid\": \"user2\",\n",
      "            \"_name\": \"Taste_of_Peru\",\n",
      "            \"_reviewrating\": \"4\"\n",
      "        },\n",
      "        \"id\": \"Taste_of_Peru\"\n",
      "    }\n",
      "]\n"
     ]
    }
   ],
   "source": [
    "# recommended = client.send(RecommendItemsToItem(item['_name'], item['_userid'], 3, return_properties=True))\n",
    "# employee_data = json.dumps(recommended, indent=4)\n",
    "# print(json.dumps(recommended['recomms'], indent=4))\n",
    "\n"
   ]
  },
  {
   "cell_type": "code",
   "execution_count": null,
   "metadata": {},
   "outputs": [],
   "source": []
  }
 ],
 "metadata": {
  "kernelspec": {
   "display_name": "Python 3",
   "language": "python",
   "name": "python3"
  },
  "language_info": {
   "codemirror_mode": {
    "name": "ipython",
    "version": 3
   },
   "file_extension": ".py",
   "mimetype": "text/x-python",
   "name": "python",
   "nbconvert_exporter": "python",
   "pygments_lexer": "ipython3",
   "version": "3.5.5"
  }
 },
 "nbformat": 4,
 "nbformat_minor": 2
}
